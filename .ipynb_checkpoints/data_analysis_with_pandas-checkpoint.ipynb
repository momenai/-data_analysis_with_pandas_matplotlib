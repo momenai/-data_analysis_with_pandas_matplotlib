{
 "cells": [
  {
   "cell_type": "code",
   "execution_count": 156,
   "id": "0c503bb2",
   "metadata": {},
   "outputs": [],
   "source": [
    "import pandas as pd\n",
    "import numpy as np\n",
    "import matplotlib.pyplot as plt"
   ]
  },
  {
   "cell_type": "code",
   "execution_count": 157,
   "id": "2552366f",
   "metadata": {},
   "outputs": [],
   "source": [
    "data = pd.read_csv(\"dataset/turkish_univeristies.csv\")"
   ]
  },
  {
   "cell_type": "code",
   "execution_count": 158,
   "id": "b3d937c6",
   "metadata": {},
   "outputs": [
    {
     "data": {
      "text/html": [
       "<div>\n",
       "<style scoped>\n",
       "    .dataframe tbody tr th:only-of-type {\n",
       "        vertical-align: middle;\n",
       "    }\n",
       "\n",
       "    .dataframe tbody tr th {\n",
       "        vertical-align: top;\n",
       "    }\n",
       "\n",
       "    .dataframe thead th {\n",
       "        text-align: right;\n",
       "    }\n",
       "</style>\n",
       "<table border=\"1\" class=\"dataframe\">\n",
       "  <thead>\n",
       "    <tr style=\"text-align: right;\">\n",
       "      <th></th>\n",
       "      <th>University</th>\n",
       "      <th>City</th>\n",
       "      <th>Status</th>\n",
       "      <th>Established</th>\n",
       "      <th>Rector</th>\n",
       "    </tr>\n",
       "  </thead>\n",
       "  <tbody>\n",
       "    <tr>\n",
       "      <th>0</th>\n",
       "      <td>ABDULLAH GUL UNIVERSITY</td>\n",
       "      <td>KAYSERİ</td>\n",
       "      <td>STATE</td>\n",
       "      <td>2010</td>\n",
       "      <td>PROF.DR. CENGİZ YILMAZ</td>\n",
       "    </tr>\n",
       "    <tr>\n",
       "      <th>1</th>\n",
       "      <td>ACIBADEM MEHMET ALI AYDINLAR UNIVERSITY</td>\n",
       "      <td>İSTANBUL</td>\n",
       "      <td>FOUNDATION</td>\n",
       "      <td>2007</td>\n",
       "      <td>PROF.DR. AHMET ŞAHİN</td>\n",
       "    </tr>\n",
       "    <tr>\n",
       "      <th>2</th>\n",
       "      <td>ADANA ALPARSLAN TURKES SCIENCE AND TECHNOLOGY ...</td>\n",
       "      <td>ADANA</td>\n",
       "      <td>STATE</td>\n",
       "      <td>2011</td>\n",
       "      <td>PROF.DR. MEHMET TÜMAY</td>\n",
       "    </tr>\n",
       "    <tr>\n",
       "      <th>3</th>\n",
       "      <td>ADIYAMAN UNIVERSITY</td>\n",
       "      <td>ADIYAMAN</td>\n",
       "      <td>STATE</td>\n",
       "      <td>2006</td>\n",
       "      <td>PROF.DR. MEHMET TURGUT</td>\n",
       "    </tr>\n",
       "    <tr>\n",
       "      <th>4</th>\n",
       "      <td>AFYON KOCATEPE UNIVERSITY</td>\n",
       "      <td>AFYONKARAHİSAR</td>\n",
       "      <td>STATE</td>\n",
       "      <td>1992</td>\n",
       "      <td>PROF.DR. MEHMET KARAKAŞ</td>\n",
       "    </tr>\n",
       "  </tbody>\n",
       "</table>\n",
       "</div>"
      ],
      "text/plain": [
       "                                          University            City  \\\n",
       "0                            ABDULLAH GUL UNIVERSITY         KAYSERİ   \n",
       "1            ACIBADEM MEHMET ALI AYDINLAR UNIVERSITY        İSTANBUL   \n",
       "2  ADANA ALPARSLAN TURKES SCIENCE AND TECHNOLOGY ...           ADANA   \n",
       "3                                ADIYAMAN UNIVERSITY        ADIYAMAN   \n",
       "4                          AFYON KOCATEPE UNIVERSITY  AFYONKARAHİSAR   \n",
       "\n",
       "       Status  Established                   Rector  \n",
       "0       STATE         2010   PROF.DR. CENGİZ YILMAZ  \n",
       "1  FOUNDATION         2007     PROF.DR. AHMET ŞAHİN  \n",
       "2       STATE         2011    PROF.DR. MEHMET TÜMAY  \n",
       "3       STATE         2006   PROF.DR. MEHMET TURGUT  \n",
       "4       STATE         1992  PROF.DR. MEHMET KARAKAŞ  "
      ]
     },
     "execution_count": 158,
     "metadata": {},
     "output_type": "execute_result"
    }
   ],
   "source": [
    "data.head()"
   ]
  },
  {
   "cell_type": "code",
   "execution_count": 159,
   "id": "750caf9a",
   "metadata": {},
   "outputs": [
    {
     "data": {
      "text/html": [
       "<div>\n",
       "<style scoped>\n",
       "    .dataframe tbody tr th:only-of-type {\n",
       "        vertical-align: middle;\n",
       "    }\n",
       "\n",
       "    .dataframe tbody tr th {\n",
       "        vertical-align: top;\n",
       "    }\n",
       "\n",
       "    .dataframe thead th {\n",
       "        text-align: right;\n",
       "    }\n",
       "</style>\n",
       "<table border=\"1\" class=\"dataframe\">\n",
       "  <thead>\n",
       "    <tr style=\"text-align: right;\">\n",
       "      <th></th>\n",
       "      <th>University</th>\n",
       "      <th>City</th>\n",
       "      <th>Status</th>\n",
       "      <th>Established</th>\n",
       "      <th>Rector</th>\n",
       "    </tr>\n",
       "  </thead>\n",
       "  <tbody>\n",
       "    <tr>\n",
       "      <th>203</th>\n",
       "      <td>YEDITEPE UNIVERSITY</td>\n",
       "      <td>İSTANBUL</td>\n",
       "      <td>FOUNDATION</td>\n",
       "      <td>1996</td>\n",
       "      <td>PROF.DR. CANAN AYKUT BİNGÖL</td>\n",
       "    </tr>\n",
       "    <tr>\n",
       "      <th>204</th>\n",
       "      <td>YILDIZ TECHNICAL UNIVERSITY</td>\n",
       "      <td>İSTANBUL</td>\n",
       "      <td>STATE</td>\n",
       "      <td>1982</td>\n",
       "      <td>PROF.DR. TAMER YILMAZ</td>\n",
       "    </tr>\n",
       "    <tr>\n",
       "      <th>205</th>\n",
       "      <td>YOZGAT BOZOK UNIVERSITY</td>\n",
       "      <td>YOZGAT</td>\n",
       "      <td>STATE</td>\n",
       "      <td>2006</td>\n",
       "      <td>PROF.DR. AHMET KARADAĞ</td>\n",
       "    </tr>\n",
       "    <tr>\n",
       "      <th>206</th>\n",
       "      <td>YUKSEK IHTISAS UNIVERSITY</td>\n",
       "      <td>ANKARA</td>\n",
       "      <td>FOUNDATION</td>\n",
       "      <td>2013</td>\n",
       "      <td>PROF.DR. MUSTAFA PAÇ</td>\n",
       "    </tr>\n",
       "    <tr>\n",
       "      <th>207</th>\n",
       "      <td>ZONGULDAK BULENT ECEVIT UNIVERSITY</td>\n",
       "      <td>ZONGULDAK</td>\n",
       "      <td>STATE</td>\n",
       "      <td>1992</td>\n",
       "      <td>PROF.DR. İSMAİL HAKKI ÖZÖLÇER</td>\n",
       "    </tr>\n",
       "  </tbody>\n",
       "</table>\n",
       "</div>"
      ],
      "text/plain": [
       "                             University       City      Status  Established  \\\n",
       "203                 YEDITEPE UNIVERSITY   İSTANBUL  FOUNDATION         1996   \n",
       "204         YILDIZ TECHNICAL UNIVERSITY   İSTANBUL       STATE         1982   \n",
       "205             YOZGAT BOZOK UNIVERSITY     YOZGAT       STATE         2006   \n",
       "206           YUKSEK IHTISAS UNIVERSITY     ANKARA  FOUNDATION         2013   \n",
       "207  ZONGULDAK BULENT ECEVIT UNIVERSITY  ZONGULDAK       STATE         1992   \n",
       "\n",
       "                            Rector  \n",
       "203    PROF.DR. CANAN AYKUT BİNGÖL  \n",
       "204          PROF.DR. TAMER YILMAZ  \n",
       "205         PROF.DR. AHMET KARADAĞ  \n",
       "206           PROF.DR. MUSTAFA PAÇ  \n",
       "207  PROF.DR. İSMAİL HAKKI ÖZÖLÇER  "
      ]
     },
     "execution_count": 159,
     "metadata": {},
     "output_type": "execute_result"
    }
   ],
   "source": [
    "data.tail()"
   ]
  },
  {
   "cell_type": "code",
   "execution_count": 160,
   "id": "69c497d7",
   "metadata": {},
   "outputs": [
    {
     "data": {
      "text/html": [
       "<div>\n",
       "<style scoped>\n",
       "    .dataframe tbody tr th:only-of-type {\n",
       "        vertical-align: middle;\n",
       "    }\n",
       "\n",
       "    .dataframe tbody tr th {\n",
       "        vertical-align: top;\n",
       "    }\n",
       "\n",
       "    .dataframe thead th {\n",
       "        text-align: right;\n",
       "    }\n",
       "</style>\n",
       "<table border=\"1\" class=\"dataframe\">\n",
       "  <thead>\n",
       "    <tr style=\"text-align: right;\">\n",
       "      <th></th>\n",
       "      <th>Established</th>\n",
       "    </tr>\n",
       "  </thead>\n",
       "  <tbody>\n",
       "    <tr>\n",
       "      <th>count</th>\n",
       "      <td>208.000000</td>\n",
       "    </tr>\n",
       "    <tr>\n",
       "      <th>mean</th>\n",
       "      <td>2001.990385</td>\n",
       "    </tr>\n",
       "    <tr>\n",
       "      <th>std</th>\n",
       "      <td>15.608430</td>\n",
       "    </tr>\n",
       "    <tr>\n",
       "      <th>min</th>\n",
       "      <td>1933.000000</td>\n",
       "    </tr>\n",
       "    <tr>\n",
       "      <th>25%</th>\n",
       "      <td>1992.000000</td>\n",
       "    </tr>\n",
       "    <tr>\n",
       "      <th>50%</th>\n",
       "      <td>2007.000000</td>\n",
       "    </tr>\n",
       "    <tr>\n",
       "      <th>75%</th>\n",
       "      <td>2012.000000</td>\n",
       "    </tr>\n",
       "    <tr>\n",
       "      <th>max</th>\n",
       "      <td>2022.000000</td>\n",
       "    </tr>\n",
       "  </tbody>\n",
       "</table>\n",
       "</div>"
      ],
      "text/plain": [
       "       Established\n",
       "count   208.000000\n",
       "mean   2001.990385\n",
       "std      15.608430\n",
       "min    1933.000000\n",
       "25%    1992.000000\n",
       "50%    2007.000000\n",
       "75%    2012.000000\n",
       "max    2022.000000"
      ]
     },
     "execution_count": 160,
     "metadata": {},
     "output_type": "execute_result"
    }
   ],
   "source": [
    "data.describe()"
   ]
  },
  {
   "cell_type": "code",
   "execution_count": 161,
   "id": "83c4784d",
   "metadata": {},
   "outputs": [
    {
     "name": "stdout",
     "output_type": "stream",
     "text": [
      "<class 'pandas.core.frame.DataFrame'>\n",
      "RangeIndex: 208 entries, 0 to 207\n",
      "Data columns (total 5 columns):\n",
      " #   Column       Non-Null Count  Dtype \n",
      "---  ------       --------------  ----- \n",
      " 0   University   208 non-null    object\n",
      " 1   City         208 non-null    object\n",
      " 2   Status       208 non-null    object\n",
      " 3   Established  208 non-null    int64 \n",
      " 4   Rector       192 non-null    object\n",
      "dtypes: int64(1), object(4)\n",
      "memory usage: 4.9+ KB\n"
     ]
    }
   ],
   "source": [
    "data.info()"
   ]
  },
  {
   "cell_type": "code",
   "execution_count": 162,
   "id": "71bc9949",
   "metadata": {},
   "outputs": [
    {
     "data": {
      "text/plain": [
       "STATE            129\n",
       "FOUNDATION        75\n",
       "FOUNDATION VS      4\n",
       "Name: Status, dtype: int64"
      ]
     },
     "execution_count": 162,
     "metadata": {},
     "output_type": "execute_result"
    }
   ],
   "source": [
    "data['Status'].value_counts()"
   ]
  },
  {
   "cell_type": "code",
   "execution_count": 163,
   "id": "b0b779f0",
   "metadata": {},
   "outputs": [
    {
     "data": {
      "text/html": [
       "<div>\n",
       "<style scoped>\n",
       "    .dataframe tbody tr th:only-of-type {\n",
       "        vertical-align: middle;\n",
       "    }\n",
       "\n",
       "    .dataframe tbody tr th {\n",
       "        vertical-align: top;\n",
       "    }\n",
       "\n",
       "    .dataframe thead th {\n",
       "        text-align: right;\n",
       "    }\n",
       "</style>\n",
       "<table border=\"1\" class=\"dataframe\">\n",
       "  <thead>\n",
       "    <tr style=\"text-align: right;\">\n",
       "      <th></th>\n",
       "      <th>University</th>\n",
       "      <th>City</th>\n",
       "      <th>Status</th>\n",
       "      <th>Established</th>\n",
       "      <th>Rector</th>\n",
       "    </tr>\n",
       "  </thead>\n",
       "  <tbody>\n",
       "    <tr>\n",
       "      <th>1</th>\n",
       "      <td>ACIBADEM MEHMET ALI AYDINLAR UNIVERSITY</td>\n",
       "      <td>İSTANBUL</td>\n",
       "      <td>FOUNDATION</td>\n",
       "      <td>2007</td>\n",
       "      <td>PROF.DR. AHMET ŞAHİN</td>\n",
       "    </tr>\n",
       "    <tr>\n",
       "      <th>11</th>\n",
       "      <td>ALTINBAS UNIVERSITY</td>\n",
       "      <td>İSTANBUL</td>\n",
       "      <td>FOUNDATION</td>\n",
       "      <td>2008</td>\n",
       "      <td>PROF.DR. ÇAĞRI ERHAN</td>\n",
       "    </tr>\n",
       "    <tr>\n",
       "      <th>26</th>\n",
       "      <td>ATASEHIR ADIGUZEL VOCATIONAL SCHOOL</td>\n",
       "      <td>İSTANBUL</td>\n",
       "      <td>FOUNDATION VS</td>\n",
       "      <td>2014</td>\n",
       "      <td>NaN</td>\n",
       "    </tr>\n",
       "    <tr>\n",
       "      <th>31</th>\n",
       "      <td>BAHCESEHIR UNIVERSITY</td>\n",
       "      <td>İSTANBUL</td>\n",
       "      <td>FOUNDATION</td>\n",
       "      <td>1998</td>\n",
       "      <td>PROF.DR. ŞİRİN KARADENİZ ORAN</td>\n",
       "    </tr>\n",
       "    <tr>\n",
       "      <th>38</th>\n",
       "      <td>BEYKENT UNIVERSITY</td>\n",
       "      <td>İSTANBUL</td>\n",
       "      <td>FOUNDATION</td>\n",
       "      <td>1997</td>\n",
       "      <td>PROF.DR. ALİ MURAT FERMAN</td>\n",
       "    </tr>\n",
       "  </tbody>\n",
       "</table>\n",
       "</div>"
      ],
      "text/plain": [
       "                                 University      City         Status  \\\n",
       "1   ACIBADEM MEHMET ALI AYDINLAR UNIVERSITY  İSTANBUL     FOUNDATION   \n",
       "11                      ALTINBAS UNIVERSITY  İSTANBUL     FOUNDATION   \n",
       "26      ATASEHIR ADIGUZEL VOCATIONAL SCHOOL  İSTANBUL  FOUNDATION VS   \n",
       "31                    BAHCESEHIR UNIVERSITY  İSTANBUL     FOUNDATION   \n",
       "38                       BEYKENT UNIVERSITY  İSTANBUL     FOUNDATION   \n",
       "\n",
       "    Established                         Rector  \n",
       "1          2007           PROF.DR. AHMET ŞAHİN  \n",
       "11         2008           PROF.DR. ÇAĞRI ERHAN  \n",
       "26         2014                            NaN  \n",
       "31         1998  PROF.DR. ŞİRİN KARADENİZ ORAN  \n",
       "38         1997      PROF.DR. ALİ MURAT FERMAN  "
      ]
     },
     "execution_count": 163,
     "metadata": {},
     "output_type": "execute_result"
    }
   ],
   "source": [
    "data[data[\"City\"]==\"İSTANBUL\"].head()"
   ]
  },
  {
   "cell_type": "code",
   "execution_count": 164,
   "id": "40106505",
   "metadata": {},
   "outputs": [
    {
     "data": {
      "text/html": [
       "<div>\n",
       "<style scoped>\n",
       "    .dataframe tbody tr th:only-of-type {\n",
       "        vertical-align: middle;\n",
       "    }\n",
       "\n",
       "    .dataframe tbody tr th {\n",
       "        vertical-align: top;\n",
       "    }\n",
       "\n",
       "    .dataframe thead th {\n",
       "        text-align: right;\n",
       "    }\n",
       "</style>\n",
       "<table border=\"1\" class=\"dataframe\">\n",
       "  <thead>\n",
       "    <tr style=\"text-align: right;\">\n",
       "      <th></th>\n",
       "      <th>University</th>\n",
       "      <th>City</th>\n",
       "      <th>Status</th>\n",
       "      <th>Established</th>\n",
       "      <th>Rector</th>\n",
       "    </tr>\n",
       "  </thead>\n",
       "  <tbody>\n",
       "    <tr>\n",
       "      <th>14</th>\n",
       "      <td>ANKA UNIVERSITY OF TECHNOLOGY</td>\n",
       "      <td>ANKARA</td>\n",
       "      <td>FOUNDATION</td>\n",
       "      <td>2013</td>\n",
       "      <td>NaN</td>\n",
       "    </tr>\n",
       "    <tr>\n",
       "      <th>15</th>\n",
       "      <td>ANKARA SCIENCE UNIVERSITY</td>\n",
       "      <td>ANKARA</td>\n",
       "      <td>FOUNDATION</td>\n",
       "      <td>2020</td>\n",
       "      <td>PROF.DR. YAVUZ DEMİR</td>\n",
       "    </tr>\n",
       "    <tr>\n",
       "      <th>16</th>\n",
       "      <td>ANKARA HACI BAYRAM VELI UNIVERSITY</td>\n",
       "      <td>ANKARA</td>\n",
       "      <td>STATE</td>\n",
       "      <td>2018</td>\n",
       "      <td>PROF.DR. YUSUF TEKİN</td>\n",
       "    </tr>\n",
       "    <tr>\n",
       "      <th>17</th>\n",
       "      <td>ANKARA MEDIPOL UNIVERSITY</td>\n",
       "      <td>ANKARA</td>\n",
       "      <td>FOUNDATION</td>\n",
       "      <td>2018</td>\n",
       "      <td>PROF.DR. AHMET ZEKİ ŞENGİL</td>\n",
       "    </tr>\n",
       "    <tr>\n",
       "      <th>18</th>\n",
       "      <td>ANKARA MUSIC AND FINE ARTS UNIVERSITY</td>\n",
       "      <td>ANKARA</td>\n",
       "      <td>STATE</td>\n",
       "      <td>2017</td>\n",
       "      <td>PROF.DR. ERHAN ÖZDEN</td>\n",
       "    </tr>\n",
       "    <tr>\n",
       "      <th>19</th>\n",
       "      <td>SOCIAL SCIENCES UNIVERSITY OF ANKARA</td>\n",
       "      <td>ANKARA</td>\n",
       "      <td>STATE</td>\n",
       "      <td>2013</td>\n",
       "      <td>PROF.DR. MUSA KAZIM ARICAN</td>\n",
       "    </tr>\n",
       "    <tr>\n",
       "      <th>20</th>\n",
       "      <td>ANKARA UNIVERSITY</td>\n",
       "      <td>ANKARA</td>\n",
       "      <td>STATE</td>\n",
       "      <td>1946</td>\n",
       "      <td>PROF.DR. NECDET ÜNÜVAR</td>\n",
       "    </tr>\n",
       "    <tr>\n",
       "      <th>21</th>\n",
       "      <td>ANKARA YILDIRIM BEYAZIT UNIVERSITY</td>\n",
       "      <td>ANKARA</td>\n",
       "      <td>STATE</td>\n",
       "      <td>2010</td>\n",
       "      <td>PROF.DR. İBRAHİM AYDINLI</td>\n",
       "    </tr>\n",
       "    <tr>\n",
       "      <th>28</th>\n",
       "      <td>ATILIM UNIVERSITY</td>\n",
       "      <td>ANKARA</td>\n",
       "      <td>FOUNDATION</td>\n",
       "      <td>1997</td>\n",
       "      <td>PROF.DR. MEHMET YILDIRIM ÜÇTUĞ</td>\n",
       "    </tr>\n",
       "    <tr>\n",
       "      <th>35</th>\n",
       "      <td>BASKENT UNIVERSITY</td>\n",
       "      <td>ANKARA</td>\n",
       "      <td>FOUNDATION</td>\n",
       "      <td>1994</td>\n",
       "      <td>NaN</td>\n",
       "    </tr>\n",
       "    <tr>\n",
       "      <th>52</th>\n",
       "      <td>CANKAYA UNIVERSITY</td>\n",
       "      <td>ANKARA</td>\n",
       "      <td>FOUNDATION</td>\n",
       "      <td>1997</td>\n",
       "      <td>PROF.DR. CAN ÇOĞUN</td>\n",
       "    </tr>\n",
       "    <tr>\n",
       "      <th>70</th>\n",
       "      <td>GAZI UNIVERSITY</td>\n",
       "      <td>ANKARA</td>\n",
       "      <td>STATE</td>\n",
       "      <td>1982</td>\n",
       "      <td>PROF.DR. MUSA YILDIZ</td>\n",
       "    </tr>\n",
       "    <tr>\n",
       "      <th>76</th>\n",
       "      <td>HACETTEPE UNIVERSITY</td>\n",
       "      <td>ANKARA</td>\n",
       "      <td>STATE</td>\n",
       "      <td>1967</td>\n",
       "      <td>PROF.DR. MEHMET CAHİT GÜRAN</td>\n",
       "    </tr>\n",
       "    <tr>\n",
       "      <th>87</th>\n",
       "      <td>IHSAN DOGRAMACI BILKENT UNIVERSITY</td>\n",
       "      <td>ANKARA</td>\n",
       "      <td>FOUNDATION</td>\n",
       "      <td>1985</td>\n",
       "      <td>PROF.DR. ABDURRAHMAN KÜRŞAT AYDOĞAN</td>\n",
       "    </tr>\n",
       "    <tr>\n",
       "      <th>145</th>\n",
       "      <td>LOKMAN HEKIM UNIVERSITY</td>\n",
       "      <td>ANKARA</td>\n",
       "      <td>FOUNDATION</td>\n",
       "      <td>2017</td>\n",
       "      <td>PROF.DR. FATİH GÜLTEKİN</td>\n",
       "    </tr>\n",
       "    <tr>\n",
       "      <th>165</th>\n",
       "      <td>MIDDLE EAST TECHNICAL UNIVERSITY</td>\n",
       "      <td>ANKARA</td>\n",
       "      <td>STATE</td>\n",
       "      <td>1956</td>\n",
       "      <td>PROF.DR. MUSTAFA VERŞAN KÖK</td>\n",
       "    </tr>\n",
       "    <tr>\n",
       "      <th>167</th>\n",
       "      <td>OSTIM TECHNICAL UNIVERSITY</td>\n",
       "      <td>ANKARA</td>\n",
       "      <td>FOUNDATION</td>\n",
       "      <td>2017</td>\n",
       "      <td>PROF.DR. MURAT ALİ YÜLEK</td>\n",
       "    </tr>\n",
       "    <tr>\n",
       "      <th>186</th>\n",
       "      <td>TED UNIVERSITY</td>\n",
       "      <td>ANKARA</td>\n",
       "      <td>FOUNDATION</td>\n",
       "      <td>2009</td>\n",
       "      <td>PROF.DR. İHSAN SABUNCUOĞLU</td>\n",
       "    </tr>\n",
       "    <tr>\n",
       "      <th>188</th>\n",
       "      <td>TOBB UNIVERSITY OF ECONOMICS AND TECHNOLOGY</td>\n",
       "      <td>ANKARA</td>\n",
       "      <td>FOUNDATION</td>\n",
       "      <td>2003</td>\n",
       "      <td>PROF.DR. YUSUF SARINAY</td>\n",
       "    </tr>\n",
       "    <tr>\n",
       "      <th>193</th>\n",
       "      <td>UNIVERSITY OF TURKISH AERONAUTICAL ASSOCIATION</td>\n",
       "      <td>ANKARA</td>\n",
       "      <td>FOUNDATION</td>\n",
       "      <td>2011</td>\n",
       "      <td>PROF.DR. HASAN ERBAY</td>\n",
       "    </tr>\n",
       "    <tr>\n",
       "      <th>197</th>\n",
       "      <td>UFUK UNIVERSITY</td>\n",
       "      <td>ANKARA</td>\n",
       "      <td>FOUNDATION</td>\n",
       "      <td>1999</td>\n",
       "      <td>PROF.DR. SERTAÇ HAMİ BAŞEREN</td>\n",
       "    </tr>\n",
       "    <tr>\n",
       "      <th>206</th>\n",
       "      <td>YUKSEK IHTISAS UNIVERSITY</td>\n",
       "      <td>ANKARA</td>\n",
       "      <td>FOUNDATION</td>\n",
       "      <td>2013</td>\n",
       "      <td>PROF.DR. MUSTAFA PAÇ</td>\n",
       "    </tr>\n",
       "  </tbody>\n",
       "</table>\n",
       "</div>"
      ],
      "text/plain": [
       "                                         University    City      Status  \\\n",
       "14                    ANKA UNIVERSITY OF TECHNOLOGY  ANKARA  FOUNDATION   \n",
       "15                        ANKARA SCIENCE UNIVERSITY  ANKARA  FOUNDATION   \n",
       "16               ANKARA HACI BAYRAM VELI UNIVERSITY  ANKARA       STATE   \n",
       "17                        ANKARA MEDIPOL UNIVERSITY  ANKARA  FOUNDATION   \n",
       "18            ANKARA MUSIC AND FINE ARTS UNIVERSITY  ANKARA       STATE   \n",
       "19             SOCIAL SCIENCES UNIVERSITY OF ANKARA  ANKARA       STATE   \n",
       "20                                ANKARA UNIVERSITY  ANKARA       STATE   \n",
       "21               ANKARA YILDIRIM BEYAZIT UNIVERSITY  ANKARA       STATE   \n",
       "28                                ATILIM UNIVERSITY  ANKARA  FOUNDATION   \n",
       "35                               BASKENT UNIVERSITY  ANKARA  FOUNDATION   \n",
       "52                               CANKAYA UNIVERSITY  ANKARA  FOUNDATION   \n",
       "70                                  GAZI UNIVERSITY  ANKARA       STATE   \n",
       "76                             HACETTEPE UNIVERSITY  ANKARA       STATE   \n",
       "87               IHSAN DOGRAMACI BILKENT UNIVERSITY  ANKARA  FOUNDATION   \n",
       "145                         LOKMAN HEKIM UNIVERSITY  ANKARA  FOUNDATION   \n",
       "165                MIDDLE EAST TECHNICAL UNIVERSITY  ANKARA       STATE   \n",
       "167                      OSTIM TECHNICAL UNIVERSITY  ANKARA  FOUNDATION   \n",
       "186                                  TED UNIVERSITY  ANKARA  FOUNDATION   \n",
       "188     TOBB UNIVERSITY OF ECONOMICS AND TECHNOLOGY  ANKARA  FOUNDATION   \n",
       "193  UNIVERSITY OF TURKISH AERONAUTICAL ASSOCIATION  ANKARA  FOUNDATION   \n",
       "197                                 UFUK UNIVERSITY  ANKARA  FOUNDATION   \n",
       "206                       YUKSEK IHTISAS UNIVERSITY  ANKARA  FOUNDATION   \n",
       "\n",
       "     Established                               Rector  \n",
       "14          2013                                  NaN  \n",
       "15          2020                 PROF.DR. YAVUZ DEMİR  \n",
       "16          2018                 PROF.DR. YUSUF TEKİN  \n",
       "17          2018           PROF.DR. AHMET ZEKİ ŞENGİL  \n",
       "18          2017                 PROF.DR. ERHAN ÖZDEN  \n",
       "19          2013           PROF.DR. MUSA KAZIM ARICAN  \n",
       "20          1946               PROF.DR. NECDET ÜNÜVAR  \n",
       "21          2010             PROF.DR. İBRAHİM AYDINLI  \n",
       "28          1997       PROF.DR. MEHMET YILDIRIM ÜÇTUĞ  \n",
       "35          1994                                  NaN  \n",
       "52          1997                   PROF.DR. CAN ÇOĞUN  \n",
       "70          1982                 PROF.DR. MUSA YILDIZ  \n",
       "76          1967          PROF.DR. MEHMET CAHİT GÜRAN  \n",
       "87          1985  PROF.DR. ABDURRAHMAN KÜRŞAT AYDOĞAN  \n",
       "145         2017              PROF.DR. FATİH GÜLTEKİN  \n",
       "165         1956          PROF.DR. MUSTAFA VERŞAN KÖK  \n",
       "167         2017             PROF.DR. MURAT ALİ YÜLEK  \n",
       "186         2009           PROF.DR. İHSAN SABUNCUOĞLU  \n",
       "188         2003               PROF.DR. YUSUF SARINAY  \n",
       "193         2011                 PROF.DR. HASAN ERBAY  \n",
       "197         1999         PROF.DR. SERTAÇ HAMİ BAŞEREN  \n",
       "206         2013                 PROF.DR. MUSTAFA PAÇ  "
      ]
     },
     "execution_count": 164,
     "metadata": {},
     "output_type": "execute_result"
    }
   ],
   "source": [
    "ankara_univeristies = data[data[\"City\"]==\"ANKARA\"]\n",
    "ankara_univeristies"
   ]
  },
  {
   "cell_type": "code",
   "execution_count": 165,
   "id": "970d1baf",
   "metadata": {},
   "outputs": [
    {
     "data": {
      "text/plain": [
       "22"
      ]
     },
     "execution_count": 165,
     "metadata": {},
     "output_type": "execute_result"
    }
   ],
   "source": [
    "#How many univeristies in Ankara\n",
    "len(ankara_univeristies)"
   ]
  },
  {
   "cell_type": "code",
   "execution_count": 166,
   "id": "f237b840",
   "metadata": {},
   "outputs": [
    {
     "data": {
      "text/plain": [
       "12"
      ]
     },
     "execution_count": 166,
     "metadata": {},
     "output_type": "execute_result"
    }
   ],
   "source": [
    "# How many  turkish_univeristy has been established in Ankara after 2005\n",
    "len(data[(data[\"City\"] == \"ANKARA\") & (data[\"Established\"] >2007)])"
   ]
  },
  {
   "cell_type": "code",
   "execution_count": 167,
   "id": "e6642f65",
   "metadata": {},
   "outputs": [
    {
     "data": {
      "text/plain": [
       "14                      ANKA UNIVERSITY OF TECHNOLOGY\n",
       "15                          ANKARA SCIENCE UNIVERSITY\n",
       "16                 ANKARA HACI BAYRAM VELI UNIVERSITY\n",
       "17                          ANKARA MEDIPOL UNIVERSITY\n",
       "18              ANKARA MUSIC AND FINE ARTS UNIVERSITY\n",
       "19               SOCIAL SCIENCES UNIVERSITY OF ANKARA\n",
       "21                 ANKARA YILDIRIM BEYAZIT UNIVERSITY\n",
       "145                           LOKMAN HEKIM UNIVERSITY\n",
       "167                        OSTIM TECHNICAL UNIVERSITY\n",
       "186                                    TED UNIVERSITY\n",
       "193    UNIVERSITY OF TURKISH AERONAUTICAL ASSOCIATION\n",
       "206                         YUKSEK IHTISAS UNIVERSITY\n",
       "Name: University, dtype: object"
      ]
     },
     "execution_count": 167,
     "metadata": {},
     "output_type": "execute_result"
    }
   ],
   "source": [
    "# what is the univeristies that is established in Ankara after 2007\n",
    "data[(data[\"City\"] == \"ANKARA\") & (data[\"Established\"] >2007)][\"University\"]"
   ]
  },
  {
   "cell_type": "code",
   "execution_count": 168,
   "id": "fe7bd7d9",
   "metadata": {},
   "outputs": [
    {
     "data": {
      "text/html": [
       "<div>\n",
       "<style scoped>\n",
       "    .dataframe tbody tr th:only-of-type {\n",
       "        vertical-align: middle;\n",
       "    }\n",
       "\n",
       "    .dataframe tbody tr th {\n",
       "        vertical-align: top;\n",
       "    }\n",
       "\n",
       "    .dataframe thead th {\n",
       "        text-align: right;\n",
       "    }\n",
       "</style>\n",
       "<table border=\"1\" class=\"dataframe\">\n",
       "  <thead>\n",
       "    <tr style=\"text-align: right;\">\n",
       "      <th></th>\n",
       "      <th>University</th>\n",
       "      <th>City</th>\n",
       "      <th>Status</th>\n",
       "      <th>Established</th>\n",
       "      <th>Rector</th>\n",
       "    </tr>\n",
       "  </thead>\n",
       "  <tbody>\n",
       "    <tr>\n",
       "      <th>14</th>\n",
       "      <td>ANKA UNIVERSITY OF TECHNOLOGY</td>\n",
       "      <td>ANKARA</td>\n",
       "      <td>FOUNDATION</td>\n",
       "      <td>2013</td>\n",
       "      <td>NaN</td>\n",
       "    </tr>\n",
       "    <tr>\n",
       "      <th>15</th>\n",
       "      <td>ANKARA SCIENCE UNIVERSITY</td>\n",
       "      <td>ANKARA</td>\n",
       "      <td>FOUNDATION</td>\n",
       "      <td>2020</td>\n",
       "      <td>PROF.DR. YAVUZ DEMİR</td>\n",
       "    </tr>\n",
       "    <tr>\n",
       "      <th>17</th>\n",
       "      <td>ANKARA MEDIPOL UNIVERSITY</td>\n",
       "      <td>ANKARA</td>\n",
       "      <td>FOUNDATION</td>\n",
       "      <td>2018</td>\n",
       "      <td>PROF.DR. AHMET ZEKİ ŞENGİL</td>\n",
       "    </tr>\n",
       "    <tr>\n",
       "      <th>145</th>\n",
       "      <td>LOKMAN HEKIM UNIVERSITY</td>\n",
       "      <td>ANKARA</td>\n",
       "      <td>FOUNDATION</td>\n",
       "      <td>2017</td>\n",
       "      <td>PROF.DR. FATİH GÜLTEKİN</td>\n",
       "    </tr>\n",
       "    <tr>\n",
       "      <th>167</th>\n",
       "      <td>OSTIM TECHNICAL UNIVERSITY</td>\n",
       "      <td>ANKARA</td>\n",
       "      <td>FOUNDATION</td>\n",
       "      <td>2017</td>\n",
       "      <td>PROF.DR. MURAT ALİ YÜLEK</td>\n",
       "    </tr>\n",
       "    <tr>\n",
       "      <th>186</th>\n",
       "      <td>TED UNIVERSITY</td>\n",
       "      <td>ANKARA</td>\n",
       "      <td>FOUNDATION</td>\n",
       "      <td>2009</td>\n",
       "      <td>PROF.DR. İHSAN SABUNCUOĞLU</td>\n",
       "    </tr>\n",
       "    <tr>\n",
       "      <th>193</th>\n",
       "      <td>UNIVERSITY OF TURKISH AERONAUTICAL ASSOCIATION</td>\n",
       "      <td>ANKARA</td>\n",
       "      <td>FOUNDATION</td>\n",
       "      <td>2011</td>\n",
       "      <td>PROF.DR. HASAN ERBAY</td>\n",
       "    </tr>\n",
       "    <tr>\n",
       "      <th>206</th>\n",
       "      <td>YUKSEK IHTISAS UNIVERSITY</td>\n",
       "      <td>ANKARA</td>\n",
       "      <td>FOUNDATION</td>\n",
       "      <td>2013</td>\n",
       "      <td>PROF.DR. MUSTAFA PAÇ</td>\n",
       "    </tr>\n",
       "  </tbody>\n",
       "</table>\n",
       "</div>"
      ],
      "text/plain": [
       "                                         University    City      Status  \\\n",
       "14                    ANKA UNIVERSITY OF TECHNOLOGY  ANKARA  FOUNDATION   \n",
       "15                        ANKARA SCIENCE UNIVERSITY  ANKARA  FOUNDATION   \n",
       "17                        ANKARA MEDIPOL UNIVERSITY  ANKARA  FOUNDATION   \n",
       "145                         LOKMAN HEKIM UNIVERSITY  ANKARA  FOUNDATION   \n",
       "167                      OSTIM TECHNICAL UNIVERSITY  ANKARA  FOUNDATION   \n",
       "186                                  TED UNIVERSITY  ANKARA  FOUNDATION   \n",
       "193  UNIVERSITY OF TURKISH AERONAUTICAL ASSOCIATION  ANKARA  FOUNDATION   \n",
       "206                       YUKSEK IHTISAS UNIVERSITY  ANKARA  FOUNDATION   \n",
       "\n",
       "     Established                      Rector  \n",
       "14          2013                         NaN  \n",
       "15          2020        PROF.DR. YAVUZ DEMİR  \n",
       "17          2018  PROF.DR. AHMET ZEKİ ŞENGİL  \n",
       "145         2017     PROF.DR. FATİH GÜLTEKİN  \n",
       "167         2017    PROF.DR. MURAT ALİ YÜLEK  \n",
       "186         2009  PROF.DR. İHSAN SABUNCUOĞLU  \n",
       "193         2011        PROF.DR. HASAN ERBAY  \n",
       "206         2013        PROF.DR. MUSTAFA PAÇ  "
      ]
     },
     "execution_count": 168,
     "metadata": {},
     "output_type": "execute_result"
    }
   ],
   "source": [
    "# what is the private univeristies that is established in Ankara after 2007\n",
    "data[(data[\"City\"] == \"ANKARA\") & (data[\"Established\"] >2007) & (data[\"Status\"] ==\"FOUNDATION\")]"
   ]
  },
  {
   "cell_type": "code",
   "execution_count": 169,
   "id": "9f83a43e",
   "metadata": {},
   "outputs": [
    {
     "data": {
      "text/html": [
       "<div>\n",
       "<style scoped>\n",
       "    .dataframe tbody tr th:only-of-type {\n",
       "        vertical-align: middle;\n",
       "    }\n",
       "\n",
       "    .dataframe tbody tr th {\n",
       "        vertical-align: top;\n",
       "    }\n",
       "\n",
       "    .dataframe thead th {\n",
       "        text-align: right;\n",
       "    }\n",
       "</style>\n",
       "<table border=\"1\" class=\"dataframe\">\n",
       "  <thead>\n",
       "    <tr style=\"text-align: right;\">\n",
       "      <th></th>\n",
       "      <th>University</th>\n",
       "      <th>City</th>\n",
       "      <th>Status</th>\n",
       "      <th>Established</th>\n",
       "      <th>Rector</th>\n",
       "    </tr>\n",
       "  </thead>\n",
       "  <tbody>\n",
       "    <tr>\n",
       "      <th>1</th>\n",
       "      <td>ACIBADEM MEHMET ALI AYDINLAR UNIVERSITY</td>\n",
       "      <td>İSTANBUL</td>\n",
       "      <td>FOUNDATION</td>\n",
       "      <td>2007</td>\n",
       "      <td>PROF.DR. AHMET ŞAHİN</td>\n",
       "    </tr>\n",
       "    <tr>\n",
       "      <th>10</th>\n",
       "      <td>ALANYA HAMDULLAH EMIN PASA UNIVERSITY</td>\n",
       "      <td>ANTALYA</td>\n",
       "      <td>FOUNDATION</td>\n",
       "      <td>2011</td>\n",
       "      <td>PROF.DR. EBRU GÜLBUĞ EROL</td>\n",
       "    </tr>\n",
       "    <tr>\n",
       "      <th>11</th>\n",
       "      <td>ALTINBAS UNIVERSITY</td>\n",
       "      <td>İSTANBUL</td>\n",
       "      <td>FOUNDATION</td>\n",
       "      <td>2008</td>\n",
       "      <td>PROF.DR. ÇAĞRI ERHAN</td>\n",
       "    </tr>\n",
       "    <tr>\n",
       "      <th>14</th>\n",
       "      <td>ANKA UNIVERSITY OF TECHNOLOGY</td>\n",
       "      <td>ANKARA</td>\n",
       "      <td>FOUNDATION</td>\n",
       "      <td>2013</td>\n",
       "      <td>NaN</td>\n",
       "    </tr>\n",
       "    <tr>\n",
       "      <th>15</th>\n",
       "      <td>ANKARA SCIENCE UNIVERSITY</td>\n",
       "      <td>ANKARA</td>\n",
       "      <td>FOUNDATION</td>\n",
       "      <td>2020</td>\n",
       "      <td>PROF.DR. YAVUZ DEMİR</td>\n",
       "    </tr>\n",
       "    <tr>\n",
       "      <th>...</th>\n",
       "      <td>...</td>\n",
       "      <td>...</td>\n",
       "      <td>...</td>\n",
       "      <td>...</td>\n",
       "      <td>...</td>\n",
       "    </tr>\n",
       "    <tr>\n",
       "      <th>197</th>\n",
       "      <td>UFUK UNIVERSITY</td>\n",
       "      <td>ANKARA</td>\n",
       "      <td>FOUNDATION</td>\n",
       "      <td>1999</td>\n",
       "      <td>PROF.DR. SERTAÇ HAMİ BAŞEREN</td>\n",
       "    </tr>\n",
       "    <tr>\n",
       "      <th>199</th>\n",
       "      <td>USKUDAR UNIVERSITY</td>\n",
       "      <td>İSTANBUL</td>\n",
       "      <td>FOUNDATION</td>\n",
       "      <td>2011</td>\n",
       "      <td>PROF.DR. MEHMET ZELKA</td>\n",
       "    </tr>\n",
       "    <tr>\n",
       "      <th>202</th>\n",
       "      <td>YASAR UNIVERSITY</td>\n",
       "      <td>İZMİR</td>\n",
       "      <td>FOUNDATION</td>\n",
       "      <td>2001</td>\n",
       "      <td>PROF.DR. MEHMET CEMALİ DİNÇER</td>\n",
       "    </tr>\n",
       "    <tr>\n",
       "      <th>203</th>\n",
       "      <td>YEDITEPE UNIVERSITY</td>\n",
       "      <td>İSTANBUL</td>\n",
       "      <td>FOUNDATION</td>\n",
       "      <td>1996</td>\n",
       "      <td>PROF.DR. CANAN AYKUT BİNGÖL</td>\n",
       "    </tr>\n",
       "    <tr>\n",
       "      <th>206</th>\n",
       "      <td>YUKSEK IHTISAS UNIVERSITY</td>\n",
       "      <td>ANKARA</td>\n",
       "      <td>FOUNDATION</td>\n",
       "      <td>2013</td>\n",
       "      <td>PROF.DR. MUSTAFA PAÇ</td>\n",
       "    </tr>\n",
       "  </tbody>\n",
       "</table>\n",
       "<p>75 rows × 5 columns</p>\n",
       "</div>"
      ],
      "text/plain": [
       "                                  University      City      Status  \\\n",
       "1    ACIBADEM MEHMET ALI AYDINLAR UNIVERSITY  İSTANBUL  FOUNDATION   \n",
       "10     ALANYA HAMDULLAH EMIN PASA UNIVERSITY   ANTALYA  FOUNDATION   \n",
       "11                       ALTINBAS UNIVERSITY  İSTANBUL  FOUNDATION   \n",
       "14             ANKA UNIVERSITY OF TECHNOLOGY    ANKARA  FOUNDATION   \n",
       "15                 ANKARA SCIENCE UNIVERSITY    ANKARA  FOUNDATION   \n",
       "..                                       ...       ...         ...   \n",
       "197                          UFUK UNIVERSITY    ANKARA  FOUNDATION   \n",
       "199                       USKUDAR UNIVERSITY  İSTANBUL  FOUNDATION   \n",
       "202                         YASAR UNIVERSITY     İZMİR  FOUNDATION   \n",
       "203                      YEDITEPE UNIVERSITY  İSTANBUL  FOUNDATION   \n",
       "206                YUKSEK IHTISAS UNIVERSITY    ANKARA  FOUNDATION   \n",
       "\n",
       "     Established                         Rector  \n",
       "1           2007           PROF.DR. AHMET ŞAHİN  \n",
       "10          2011      PROF.DR. EBRU GÜLBUĞ EROL  \n",
       "11          2008           PROF.DR. ÇAĞRI ERHAN  \n",
       "14          2013                            NaN  \n",
       "15          2020           PROF.DR. YAVUZ DEMİR  \n",
       "..           ...                            ...  \n",
       "197         1999   PROF.DR. SERTAÇ HAMİ BAŞEREN  \n",
       "199         2011          PROF.DR. MEHMET ZELKA  \n",
       "202         2001  PROF.DR. MEHMET CEMALİ DİNÇER  \n",
       "203         1996    PROF.DR. CANAN AYKUT BİNGÖL  \n",
       "206         2013           PROF.DR. MUSTAFA PAÇ  \n",
       "\n",
       "[75 rows x 5 columns]"
      ]
     },
     "execution_count": 169,
     "metadata": {},
     "output_type": "execute_result"
    }
   ],
   "source": [
    "# what is the private univeristies in Turkey\n",
    "data[(data[\"Status\"] ==\"FOUNDATION\")]"
   ]
  },
  {
   "cell_type": "code",
   "execution_count": 170,
   "id": "99aaffbc",
   "metadata": {},
   "outputs": [
    {
     "name": "stdout",
     "output_type": "stream",
     "text": [
      "75\n"
     ]
    }
   ],
   "source": [
    "# How many private univeristy in Turkey?\n",
    "print(len(data[(data[\"Status\"] ==\"FOUNDATION\")]))"
   ]
  },
  {
   "cell_type": "code",
   "execution_count": 171,
   "id": "0ebec3b2",
   "metadata": {},
   "outputs": [
    {
     "data": {
      "text/plain": [
       "39                                     BEYKOZ UNIVERSITY\n",
       "67                                 FENERBAHCE UNIVERSITY\n",
       "91                             ISTANBUL ATLAS UNIVERSITY\n",
       "95                            ISTANBUL GALATA UNIVERSITY\n",
       "98                              ISTANBUL KENT UNIVERSITY\n",
       "106            ISTANBUL HEALTH AND TECHNOLOGY UNIVERSITY\n",
       "110                          ISTANBUL TOPKAPI UNIVERSITY\n",
       "112                       ISTANBUL UNIVERSITY-CERRAHPASA\n",
       "196    TURKISH-JAPANESE SCIENCE AND TECHNOLOGY UNIVER...\n",
       "Name: University, dtype: object"
      ]
     },
     "execution_count": 171,
     "metadata": {},
     "output_type": "execute_result"
    }
   ],
   "source": [
    "# what is the turkish_univeristies that has been established in Istanbul in last theree years\n",
    "data[(data[\"City\"] == \"İSTANBUL\") & (data[\"Established\"] >2015)][\"University\"]"
   ]
  },
  {
   "cell_type": "code",
   "execution_count": 172,
   "id": "00dc5028",
   "metadata": {},
   "outputs": [
    {
     "data": {
      "text/plain": [
       "3"
      ]
     },
     "execution_count": 172,
     "metadata": {},
     "output_type": "execute_result"
    }
   ],
   "source": [
    "# How many turkish univeristies  has established afer 2020\n",
    "len(data[data[\"Established\"] > 2019])"
   ]
  },
  {
   "cell_type": "code",
   "execution_count": 173,
   "id": "c3065744",
   "metadata": {},
   "outputs": [
    {
     "data": {
      "text/html": [
       "<div>\n",
       "<style scoped>\n",
       "    .dataframe tbody tr th:only-of-type {\n",
       "        vertical-align: middle;\n",
       "    }\n",
       "\n",
       "    .dataframe tbody tr th {\n",
       "        vertical-align: top;\n",
       "    }\n",
       "\n",
       "    .dataframe thead th {\n",
       "        text-align: right;\n",
       "    }\n",
       "</style>\n",
       "<table border=\"1\" class=\"dataframe\">\n",
       "  <thead>\n",
       "    <tr style=\"text-align: right;\">\n",
       "      <th></th>\n",
       "      <th>University</th>\n",
       "      <th>Status</th>\n",
       "      <th>Established</th>\n",
       "      <th>Rector</th>\n",
       "    </tr>\n",
       "    <tr>\n",
       "      <th>City</th>\n",
       "      <th></th>\n",
       "      <th></th>\n",
       "      <th></th>\n",
       "      <th></th>\n",
       "    </tr>\n",
       "  </thead>\n",
       "  <tbody>\n",
       "    <tr>\n",
       "      <th>ADANA</th>\n",
       "      <td>2</td>\n",
       "      <td>2</td>\n",
       "      <td>2</td>\n",
       "      <td>2</td>\n",
       "    </tr>\n",
       "    <tr>\n",
       "      <th>ADIYAMAN</th>\n",
       "      <td>1</td>\n",
       "      <td>1</td>\n",
       "      <td>1</td>\n",
       "      <td>1</td>\n",
       "    </tr>\n",
       "    <tr>\n",
       "      <th>AFYONKARAHİSAR</th>\n",
       "      <td>2</td>\n",
       "      <td>2</td>\n",
       "      <td>2</td>\n",
       "      <td>2</td>\n",
       "    </tr>\n",
       "    <tr>\n",
       "      <th>AKSARAY</th>\n",
       "      <td>1</td>\n",
       "      <td>1</td>\n",
       "      <td>1</td>\n",
       "      <td>1</td>\n",
       "    </tr>\n",
       "    <tr>\n",
       "      <th>AMASYA</th>\n",
       "      <td>1</td>\n",
       "      <td>1</td>\n",
       "      <td>1</td>\n",
       "      <td>1</td>\n",
       "    </tr>\n",
       "  </tbody>\n",
       "</table>\n",
       "</div>"
      ],
      "text/plain": [
       "                University  Status  Established  Rector\n",
       "City                                                   \n",
       "ADANA                    2       2            2       2\n",
       "ADIYAMAN                 1       1            1       1\n",
       "AFYONKARAHİSAR           2       2            2       2\n",
       "AKSARAY                  1       1            1       1\n",
       "AMASYA                   1       1            1       1"
      ]
     },
     "execution_count": 173,
     "metadata": {},
     "output_type": "execute_result"
    }
   ],
   "source": [
    "by_city = data.groupby('City').count()\n",
    "by_city.head()"
   ]
  },
  {
   "cell_type": "code",
   "execution_count": 174,
   "id": "8fec121e",
   "metadata": {},
   "outputs": [
    {
     "data": {
      "text/plain": [
       "City       Established\n",
       "İSTANBUL   2010           7\n",
       "           1997           5\n",
       "           2015           5\n",
       "           1996           4\n",
       "           2007           4\n",
       "                         ..\n",
       "GAZİANTEP  2018           1\n",
       "GÜMÜŞHANE  2008           1\n",
       "GİRESUN    2006           1\n",
       "HAKKARİ    2008           1\n",
       "ŞIRNAK     2008           1\n",
       "Length: 163, dtype: int64"
      ]
     },
     "execution_count": 174,
     "metadata": {},
     "output_type": "execute_result"
    }
   ],
   "source": [
    "data.value_counts(subset=['City', 'Established'])\n"
   ]
  },
  {
   "cell_type": "code",
   "execution_count": 175,
   "id": "3d6273fe",
   "metadata": {},
   "outputs": [
    {
     "data": {
      "text/plain": [
       "count     208.000000\n",
       "mean     2001.990385\n",
       "std        15.608430\n",
       "min      1933.000000\n",
       "25%      1992.000000\n",
       "50%      2007.000000\n",
       "75%      2012.000000\n",
       "max      2022.000000\n",
       "Name: Established, dtype: float64"
      ]
     },
     "execution_count": 175,
     "metadata": {},
     "output_type": "execute_result"
    }
   ],
   "source": [
    "data['Established'].describe()"
   ]
  },
  {
   "cell_type": "code",
   "execution_count": 176,
   "id": "f18f6f00",
   "metadata": {},
   "outputs": [
    {
     "data": {
      "text/plain": [
       "0      False\n",
       "1      False\n",
       "2      False\n",
       "3      False\n",
       "4      False\n",
       "       ...  \n",
       "203    False\n",
       "204    False\n",
       "205    False\n",
       "206     True\n",
       "207    False\n",
       "Name: City, Length: 208, dtype: bool"
      ]
     },
     "execution_count": 176,
     "metadata": {},
     "output_type": "execute_result"
    }
   ],
   "source": [
    "data[\"City\"]==\"ANKARA\""
   ]
  },
  {
   "cell_type": "code",
   "execution_count": 177,
   "id": "7a2b65a1",
   "metadata": {},
   "outputs": [
    {
     "data": {
      "text/plain": [
       "City            Status       \n",
       "ADANA           STATE            2\n",
       "ADIYAMAN        STATE            1\n",
       "AFYONKARAHİSAR  STATE            2\n",
       "AKSARAY         STATE            1\n",
       "AMASYA          STATE            1\n",
       "                                ..\n",
       "İZMİR           STATE            6\n",
       "                FOUNDATION       3\n",
       "                FOUNDATION VS    1\n",
       "ŞANLIURFA       STATE            1\n",
       "ŞIRNAK          STATE            1\n",
       "Name: Status, Length: 95, dtype: int64"
      ]
     },
     "execution_count": 177,
     "metadata": {},
     "output_type": "execute_result"
    }
   ],
   "source": [
    "data.groupby([\"City\"])[\"Status\"].value_counts()"
   ]
  },
  {
   "cell_type": "code",
   "execution_count": 178,
   "id": "178138c2",
   "metadata": {},
   "outputs": [
    {
     "data": {
      "text/plain": [
       "24"
      ]
     },
     "execution_count": 178,
     "metadata": {},
     "output_type": "execute_result"
    }
   ],
   "source": [
    "established_year= data.groupby([\"Established\"])[\"Established\"].count()\n",
    "\n",
    "established_year.max()"
   ]
  },
  {
   "cell_type": "code",
   "execution_count": 179,
   "id": "08e13acf",
   "metadata": {},
   "outputs": [
    {
     "data": {
      "image/png": "[encoded data removed]",
      "text/plain": [
       "<Figure size 432x288 with 1 Axes>"
      ]
     },
     "metadata": {
      "needs_background": "light"
     },
     "output_type": "display_data"
    }
   ],
   "source": [
    "established_year.plot();"
   ]
  },
  {
   "cell_type": "code",
   "execution_count": 180,
   "id": "42d17f68",
   "metadata": {},
   "outputs": [],
   "source": [
    "status_of_univeristies= data.groupby([\"Status\"])[\"Status\"].count()"
   ]
  },
  {
   "cell_type": "code",
   "execution_count": 181,
   "id": "6c332d6b",
   "metadata": {},
   "outputs": [
    {
     "data": {
      "text/plain": [
       "<AxesSubplot:ylabel='Status'>"
      ]
     },
     "execution_count": 181,
     "metadata": {},
     "output_type": "execute_result"
    },
    {
     "data": {
      "image/png": "[encoded data removed]",
      "text/plain": [
       "<Figure size 432x288 with 1 Axes>"
      ]
     },
     "metadata": {},
     "output_type": "display_data"
    }
   ],
   "source": [
    "status_of_univeristies.plot(kind='pie', y='Number of universities', autopct='%1.0f%%')"
   ]
  },
  {
   "cell_type": "code",
   "execution_count": 182,
   "id": "c06cbee7",
   "metadata": {
    "scrolled": true
   },
   "outputs": [
    {
     "data": {
      "text/plain": [
       "<AxesSubplot:ylabel='Status'>"
      ]
     },
     "execution_count": 182,
     "metadata": {},
     "output_type": "execute_result"
    },
    {
     "data": {
      "image/png": "[encoded data removed]",
      "text/plain": [
       "<Figure size 432x288 with 1 Axes>"
      ]
     },
     "metadata": {},
     "output_type": "display_data"
    }
   ],
   "source": [
    "colors = ['Orange', 'Red', 'blue', ]\n",
    "  \n",
    "explode = (0.05, 0.05, 0.05)\n",
    "status_of_univeristies.plot(kind='pie', y='Number of universities', colors= colors, explode= explode, autopct='%1.0f%%') "
   ]
  },
  {
   "cell_type": "code",
   "execution_count": 183,
   "id": "1d75ad0e",
   "metadata": {},
   "outputs": [
    {
     "data": {
      "text/plain": [
       "<AxesSubplot:ylabel='Status'>"
      ]
     },
     "execution_count": 183,
     "metadata": {},
     "output_type": "execute_result"
    },
    {
     "data": {
      "image/png": "[encoded data removed]",
      "text/plain": [
       "<Figure size 432x288 with 1 Axes>"
      ]
     },
     "metadata": {},
     "output_type": "display_data"
    }
   ],
   "source": [
    "colors = ['Orange', 'Red', 'blue', ]\n",
    "  \n",
    "explode = (0.05, 0.05, 0.05)\n",
    "status_of_univeristies.plot(kind='pie', y='Status', colors= colors, explode= explode, autopct='%1.0f%%',shadow=True) "
   ]
  }
 ],
 "metadata": {
  "kernelspec": {
   "display_name": "Python 3",
   "language": "python",
   "name": "python3"
  },
  "language_info": {
   "codemirror_mode": {
    "name": "ipython",
    "version": 3
   },
   "file_extension": ".py",
   "mimetype": "text/x-python",
   "name": "python",
   "nbconvert_exporter": "python",
   "pygments_lexer": "ipython3",
   "version": "3.8.5"
  }
 },
 "nbformat": 4,
 "nbformat_minor": 5
}
